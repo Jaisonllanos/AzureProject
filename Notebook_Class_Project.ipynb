{
    "metadata": {
        "kernelspec": {
            "name": "SQL",
            "display_name": "SQL",
            "language": "sql"
        },
        "language_info": {
            "name": "sql",
            "version": ""
        }
    },
    "nbformat_minor": 2,
    "nbformat": 4,
    "cells": [
        {
            "cell_type": "markdown",
            "source": [
                "**1) Profit by Region- 2015**"
            ],
            "metadata": {
                "azdata_cell_guid": "5128736a-618d-48f2-ac4a-18f26ac0fd56"
            },
            "attachments": {}
        },
        {
            "cell_type": "markdown",
            "source": [
                "The purpose is to display the total profit generated from sales in each region during the year 2015. This helps in identifying which region contributed the most to the overall profit in that particular year."
            ],
            "metadata": {
                "azdata_cell_guid": "d697f9f8-4e0a-44a1-aa70-9623ae6912bb"
            },
            "attachments": {}
        },
        {
            "cell_type": "code",
            "source": [
                "SELECT\r\n",
                "    Region,\r\n",
                "    SUM(Profit) AS TotalProfit\r\n",
                "FROM\r\n",
                "    sales_data\r\n",
                "WHERE\r\n",
                "    YEAR(Order_Date) = 2015\r\n",
                "GROUP BY\r\n",
                "    Region\r\n",
                "ORDER BY\r\n",
                "    TotalProfit DESC; \r\n",
                ""
            ],
            "metadata": {
                "azdata_cell_guid": "e4f5d450-aa8b-46d9-9aaf-8d4a08056f09",
                "language": "sql"
            },
            "outputs": [
                {
                    "output_type": "display_data",
                    "data": {
                        "text/html": "(4 rows affected)"
                    },
                    "metadata": {}
                },
                {
                    "output_type": "display_data",
                    "data": {
                        "text/html": "Total execution time: 00:00:00.024"
                    },
                    "metadata": {}
                },
                {
                    "output_type": "execute_result",
                    "execution_count": 50,
                    "data": {
                        "application/vnd.dataresource+json": {
                            "schema": {
                                "fields": [
                                    {
                                        "name": "Region"
                                    },
                                    {
                                        "name": "TotalProfit"
                                    }
                                ]
                            },
                            "data": [
                                {
                                    "Region": "South",
                                    "TotalProfit": "1234311"
                                },
                                {
                                    "Region": "East",
                                    "TotalProfit": "622897"
                                },
                                {
                                    "Region": "Central",
                                    "TotalProfit": "143237"
                                },
                                {
                                    "Region": "West",
                                    "TotalProfit": "-1864364"
                                }
                            ]
                        },
                        "text/html": "<table><tr><th>Region</th><th>TotalProfit</th></tr><tr><td>South</td><td>1234311</td></tr><tr><td>East</td><td>622897</td></tr><tr><td>Central</td><td>143237</td></tr><tr><td>West</td><td>-1864364</td></tr></table>"
                    },
                    "metadata": {
                        "azdata_chartOptions": {
                            "type": "pie",
                            "dataDirection": "vertical",
                            "columnsAsLabels": true,
                            "labelFirstColumn": true,
                            "legendPosition": "top"
                        }
                    }
                }
            ],
            "execution_count": 50
        },
        {
            "cell_type": "markdown",
            "source": [
                "**2) Monthly Profit -2015**"
            ],
            "metadata": {
                "azdata_cell_guid": "789a4f8c-ffbc-4e09-a40d-9f4aab759af2"
            },
            "attachments": {}
        },
        {
            "cell_type": "markdown",
            "source": [
                "The purpose is to display the total profit generated each month in the year 2015. By grouping the results by year and month and ordering them choronologically, the query allows for clear analysis of how profits varied from month to month throughout the year."
            ],
            "metadata": {
                "azdata_cell_guid": "0a004871-f1b1-4114-b5ae-9fcf3ab8da83"
            },
            "attachments": {}
        },
        {
            "cell_type": "code",
            "source": [
                "SELECT\r\n",
                "    YEAR(Order_Date) AS Order_Year,\r\n",
                "    MONTH(Order_Date) AS Order_Month,\r\n",
                "    SUM(Profit) AS Monthly_Profit\r\n",
                "FROM\r\n",
                "    sales_data\r\n",
                "WHERE\r\n",
                "    YEAR(Order_Date) = 2015\r\n",
                "GROUP BY\r\n",
                "    YEAR(Order_Date),\r\n",
                "    MONTH(Order_Date)\r\n",
                "ORDER BY\r\n",
                "    Order_Year, Order_Month;\r\n",
                "\r\n",
                "\r\n",
                "\r\n",
                "\r\n",
                ""
            ],
            "metadata": {
                "azdata_cell_guid": "368c48b5-56f5-452a-bb9c-685034cca4b8",
                "language": "sql"
            },
            "outputs": [
                {
                    "output_type": "display_data",
                    "data": {
                        "text/html": "(12 rows affected)"
                    },
                    "metadata": {}
                },
                {
                    "output_type": "display_data",
                    "data": {
                        "text/html": "Total execution time: 00:00:00.012"
                    },
                    "metadata": {}
                },
                {
                    "output_type": "execute_result",
                    "execution_count": 51,
                    "data": {
                        "application/vnd.dataresource+json": {
                            "schema": {
                                "fields": [
                                    {
                                        "name": "Order_Year"
                                    },
                                    {
                                        "name": "Order_Month"
                                    },
                                    {
                                        "name": "Monthly_Profit"
                                    }
                                ]
                            },
                            "data": [
                                {
                                    "Order_Year": "2015",
                                    "Order_Month": "1",
                                    "Monthly_Profit": "412726"
                                },
                                {
                                    "Order_Year": "2015",
                                    "Order_Month": "2",
                                    "Monthly_Profit": "-127603"
                                },
                                {
                                    "Order_Year": "2015",
                                    "Order_Month": "3",
                                    "Monthly_Profit": "295005"
                                },
                                {
                                    "Order_Year": "2015",
                                    "Order_Month": "4",
                                    "Monthly_Profit": "-718510"
                                },
                                {
                                    "Order_Year": "2015",
                                    "Order_Month": "5",
                                    "Monthly_Profit": "112138"
                                },
                                {
                                    "Order_Year": "2015",
                                    "Order_Month": "6",
                                    "Monthly_Profit": "-122485"
                                },
                                {
                                    "Order_Year": "2015",
                                    "Order_Month": "7",
                                    "Monthly_Profit": "-390477"
                                },
                                {
                                    "Order_Year": "2015",
                                    "Order_Month": "8",
                                    "Monthly_Profit": "-336985"
                                },
                                {
                                    "Order_Year": "2015",
                                    "Order_Month": "9",
                                    "Monthly_Profit": "-149170"
                                },
                                {
                                    "Order_Year": "2015",
                                    "Order_Month": "10",
                                    "Monthly_Profit": "-394505"
                                },
                                {
                                    "Order_Year": "2015",
                                    "Order_Month": "11",
                                    "Monthly_Profit": "5959"
                                },
                                {
                                    "Order_Year": "2015",
                                    "Order_Month": "12",
                                    "Monthly_Profit": "1549988"
                                }
                            ]
                        },
                        "text/html": "<table><tr><th>Order_Year</th><th>Order_Month</th><th>Monthly_Profit</th></tr><tr><td>2015</td><td>1</td><td>412726</td></tr><tr><td>2015</td><td>2</td><td>-127603</td></tr><tr><td>2015</td><td>3</td><td>295005</td></tr><tr><td>2015</td><td>4</td><td>-718510</td></tr><tr><td>2015</td><td>5</td><td>112138</td></tr><tr><td>2015</td><td>6</td><td>-122485</td></tr><tr><td>2015</td><td>7</td><td>-390477</td></tr><tr><td>2015</td><td>8</td><td>-336985</td></tr><tr><td>2015</td><td>9</td><td>-149170</td></tr><tr><td>2015</td><td>10</td><td>-394505</td></tr><tr><td>2015</td><td>11</td><td>5959</td></tr><tr><td>2015</td><td>12</td><td>1549988</td></tr></table>"
                    },
                    "metadata": {
                        "azdata_chartOptions": {
                            "type": "line",
                            "dataDirection": "vertical",
                            "columnsAsLabels": true,
                            "labelFirstColumn": false,
                            "legendPosition": "top",
                            "yAxisLabel": "Monthly Profit",
                            "xAxisLabel": "Other Month",
                            "dataType": "number"
                        }
                    }
                }
            ],
            "execution_count": 51
        },
        {
            "cell_type": "markdown",
            "source": [
                "**3) Total Porfit by Category- Year 2015**"
            ],
            "metadata": {
                "azdata_cell_guid": "9348aa2d-d857-45e4-a232-7b64a70e872e"
            },
            "attachments": {}
        },
        {
            "cell_type": "markdown",
            "source": [
                "The Purpose of this is to display the top 5 categories that generated the highest total profit in the year 2015. By grouping by category and summing up the profit, followed by ordering and limiting the top 5, the query provides insight into which product categories were the most profitable during that specific year."
            ],
            "metadata": {
                "azdata_cell_guid": "5e8a2b7f-77d0-4dda-8fde-2208f0340164"
            },
            "attachments": {}
        },
        {
            "cell_type": "code",
            "source": [
                "SELECT TOP 5\r\n",
                "    Category,\r\n",
                "    SUM(Profit) AS TotalProfit\r\n",
                "FROM\r\n",
                "    sales_data\r\n",
                "WHERE\r\n",
                "    YEAR(Order_Date) = 2015\r\n",
                "GROUP BY\r\n",
                "    Category\r\n",
                "ORDER BY\r\n",
                "    TotalProfit DESC;\r\n",
                "\r\n",
                "\r\n",
                ""
            ],
            "metadata": {
                "azdata_cell_guid": "c522099f-b337-4083-a83a-6727a2bba69d",
                "language": "sql"
            },
            "outputs": [
                {
                    "output_type": "display_data",
                    "data": {
                        "text/html": "(3 rows affected)"
                    },
                    "metadata": {}
                },
                {
                    "output_type": "display_data",
                    "data": {
                        "text/html": "Total execution time: 00:00:00.007"
                    },
                    "metadata": {}
                },
                {
                    "output_type": "execute_result",
                    "execution_count": 52,
                    "data": {
                        "application/vnd.dataresource+json": {
                            "schema": {
                                "fields": [
                                    {
                                        "name": "Category"
                                    },
                                    {
                                        "name": "TotalProfit"
                                    }
                                ]
                            },
                            "data": [
                                {
                                    "Category": "Technology",
                                    "TotalProfit": "844773"
                                },
                                {
                                    "Category": "Furniture",
                                    "TotalProfit": "-265000"
                                },
                                {
                                    "Category": "Office Supplies",
                                    "TotalProfit": "-443692"
                                }
                            ]
                        },
                        "text/html": "<table><tr><th>Category</th><th>TotalProfit</th></tr><tr><td>Technology</td><td>844773</td></tr><tr><td>Furniture</td><td>-265000</td></tr><tr><td>Office Supplies</td><td>-443692</td></tr></table>"
                    },
                    "metadata": {
                        "azdata_chartOptions": {
                            "type": "bar",
                            "dataDirection": "horizontal",
                            "columnsAsLabels": true,
                            "labelFirstColumn": true,
                            "legendPosition": "top"
                        }
                    }
                }
            ],
            "execution_count": 52
        },
        {
            "cell_type": "markdown",
            "source": [
                "**4) Total Profit By Sub-Category 2015**"
            ],
            "metadata": {
                "azdata_cell_guid": "8a3b72fd-8a77-41b5-b657-3f22aee02224"
            },
            "attachments": {}
        },
        {
            "cell_type": "markdown",
            "source": [
                "The purpose of this is to display the total profit generated by each sub-category in the year 2015. By grouping by sub-category and summing up the profits, followed by ordering by total profit in descending order, the query provides insight into which specific sub-categories contributed the most to the overall profit during that year."
            ],
            "metadata": {
                "azdata_cell_guid": "dbefcf82-19b8-4425-b873-ca59af00d991"
            },
            "attachments": {}
        },
        {
            "cell_type": "code",
            "source": [
                "SELECT\r\n",
                "    Sub_Category,\r\n",
                "    SUM(Profit) AS TotalProfit\r\n",
                "FROM\r\n",
                "    sales_data\r\n",
                "WHERE\r\n",
                "    YEAR(Order_Date) = 2015\r\n",
                "GROUP BY\r\n",
                "    Sub_Category\r\n",
                "ORDER BY\r\n",
                "    TotalProfit DESC;\r\n",
                "\r\n",
                "\r\n",
                "\r\n",
                "\r\n",
                "\r\n",
                "\r\n",
                ""
            ],
            "metadata": {
                "azdata_cell_guid": "f2800ad6-fa58-4b2c-8c14-71cc894b5684",
                "language": "sql"
            },
            "outputs": [
                {
                    "output_type": "display_data",
                    "data": {
                        "text/html": "(17 rows affected)"
                    },
                    "metadata": {}
                },
                {
                    "output_type": "display_data",
                    "data": {
                        "text/html": "Total execution time: 00:00:00.009"
                    },
                    "metadata": {}
                },
                {
                    "output_type": "execute_result",
                    "execution_count": 53,
                    "data": {
                        "application/vnd.dataresource+json": {
                            "schema": {
                                "fields": [
                                    {
                                        "name": "Sub_Category"
                                    },
                                    {
                                        "name": "TotalProfit"
                                    }
                                ]
                            },
                            "data": [
                                {
                                    "Sub_Category": "Phones",
                                    "TotalProfit": "865890"
                                },
                                {
                                    "Sub_Category": "Binders",
                                    "TotalProfit": "417163"
                                },
                                {
                                    "Sub_Category": "Bookcases",
                                    "TotalProfit": "407650"
                                },
                                {
                                    "Sub_Category": "Chairs",
                                    "TotalProfit": "334414"
                                },
                                {
                                    "Sub_Category": "Envelopes",
                                    "TotalProfit": "259311"
                                },
                                {
                                    "Sub_Category": "Fasteners",
                                    "TotalProfit": "135788"
                                },
                                {
                                    "Sub_Category": "Paper",
                                    "TotalProfit": "115428"
                                },
                                {
                                    "Sub_Category": "Accessories",
                                    "TotalProfit": "109306"
                                },
                                {
                                    "Sub_Category": "Labels",
                                    "TotalProfit": "65524"
                                },
                                {
                                    "Sub_Category": "Appliances",
                                    "TotalProfit": "10245"
                                },
                                {
                                    "Sub_Category": "Machines",
                                    "TotalProfit": "-4946"
                                },
                                {
                                    "Sub_Category": "Copiers",
                                    "TotalProfit": "-125477"
                                },
                                {
                                    "Sub_Category": "Storage",
                                    "TotalProfit": "-272670"
                                },
                                {
                                    "Sub_Category": "Tables",
                                    "TotalProfit": "-336436"
                                },
                                {
                                    "Sub_Category": "Supplies",
                                    "TotalProfit": "-371875"
                                },
                                {
                                    "Sub_Category": "Furnishings",
                                    "TotalProfit": "-670628"
                                },
                                {
                                    "Sub_Category": "Art",
                                    "TotalProfit": "-802606"
                                }
                            ]
                        },
                        "text/html": "<table><tr><th>Sub_Category</th><th>TotalProfit</th></tr><tr><td>Phones</td><td>865890</td></tr><tr><td>Binders</td><td>417163</td></tr><tr><td>Bookcases</td><td>407650</td></tr><tr><td>Chairs</td><td>334414</td></tr><tr><td>Envelopes</td><td>259311</td></tr><tr><td>Fasteners</td><td>135788</td></tr><tr><td>Paper</td><td>115428</td></tr><tr><td>Accessories</td><td>109306</td></tr><tr><td>Labels</td><td>65524</td></tr><tr><td>Appliances</td><td>10245</td></tr><tr><td>Machines</td><td>-4946</td></tr><tr><td>Copiers</td><td>-125477</td></tr><tr><td>Storage</td><td>-272670</td></tr><tr><td>Tables</td><td>-336436</td></tr><tr><td>Supplies</td><td>-371875</td></tr><tr><td>Furnishings</td><td>-670628</td></tr><tr><td>Art</td><td>-802606</td></tr></table>"
                    },
                    "metadata": {
                        "azdata_chartOptions": {
                            "type": "bar",
                            "dataDirection": "vertical",
                            "columnsAsLabels": true,
                            "labelFirstColumn": true,
                            "legendPosition": "top",
                            "encoding": "hex",
                            "imageFormat": "jpeg",
                            "dataType": "number"
                        }
                    }
                }
            ],
            "execution_count": 53
        },
        {
            "cell_type": "markdown",
            "source": [
                "**5) Total Profit Segment + Unique Clients 2015**"
            ],
            "metadata": {
                "azdata_cell_guid": "de39501e-90d4-4126-b356-bff622e385d9"
            },
            "attachments": {}
        },
        {
            "cell_type": "markdown",
            "source": [
                "The purpose of this is to display the total profit generated and the number of customers for each segment in the year 2015. By grouping by segment and calculating both the total profit and count of unique customers, the query provides insights into which segments were the most profitable and had the largest customer base during the year of 2015."
            ],
            "metadata": {
                "azdata_cell_guid": "eac34eca-22ee-4e9d-b3b1-2acabb088253"
            },
            "attachments": {}
        },
        {
            "cell_type": "code",
            "source": [
                "SELECT\r\n",
                "    Segment,\r\n",
                "    SUM(Profit) AS TotalProfit,\r\n",
                "    COUNT(DISTINCT Customer_ID) AS UniqueCustomers\r\n",
                "FROM\r\n",
                "    sales_data\r\n",
                "WHERE\r\n",
                "    YEAR(Order_Date) = 2015\r\n",
                "GROUP BY\r\n",
                "    Segment\r\n",
                "ORDER BY\r\n",
                "    TotalProfit DESC;\r\n",
                "\r\n",
                "\r\n",
                "\r\n",
                "\r\n",
                "\r\n",
                "\r\n",
                "\r\n",
                ""
            ],
            "metadata": {
                "azdata_cell_guid": "0e7dd254-c34a-4faa-a6f7-031e60367ea9",
                "language": "sql"
            },
            "outputs": [
                {
                    "output_type": "display_data",
                    "data": {
                        "text/html": "(3 rows affected)"
                    },
                    "metadata": {}
                },
                {
                    "output_type": "display_data",
                    "data": {
                        "text/html": "Total execution time: 00:00:00.011"
                    },
                    "metadata": {}
                },
                {
                    "output_type": "execute_result",
                    "execution_count": 54,
                    "data": {
                        "application/vnd.dataresource+json": {
                            "schema": {
                                "fields": [
                                    {
                                        "name": "Segment"
                                    },
                                    {
                                        "name": "TotalProfit"
                                    },
                                    {
                                        "name": "UniqueCustomers"
                                    }
                                ]
                            },
                            "data": [
                                {
                                    "Segment": "Home Office",
                                    "TotalProfit": "1475757",
                                    "UniqueCustomers": "105"
                                },
                                {
                                    "Segment": "Consumer",
                                    "TotalProfit": "-297119",
                                    "UniqueCustomers": "307"
                                },
                                {
                                    "Segment": "Corporate",
                                    "TotalProfit": "-1042557",
                                    "UniqueCustomers": "177"
                                }
                            ]
                        },
                        "text/html": "<table><tr><th>Segment</th><th>TotalProfit</th><th>UniqueCustomers</th></tr><tr><td>Home Office</td><td>1475757</td><td>105</td></tr><tr><td>Consumer</td><td>-297119</td><td>307</td></tr><tr><td>Corporate</td><td>-1042557</td><td>177</td></tr></table>"
                    },
                    "metadata": {}
                }
            ],
            "execution_count": 54
        },
        {
            "cell_type": "markdown",
            "source": [
                "**6) Customer Segment Analysis**"
            ],
            "metadata": {
                "azdata_cell_guid": "bb692125-becf-4a64-8361-b3891d6b4a23"
            },
            "attachments": {}
        },
        {
            "cell_type": "markdown",
            "source": [
                "By understanding which segments contribute the most to sales, businesses can tailor their marketing and sales strategies to target the most profitable segments effectively. This Helps in enhancing customer satisfaction and loyalty."
            ],
            "metadata": {
                "azdata_cell_guid": "0f04c7fd-41ff-4882-8e61-0b5af4c53586"
            },
            "attachments": {}
        },
        {
            "cell_type": "code",
            "source": [
                "SELECT \r\n",
                "    Segment, \r\n",
                "    SUM(Sales) AS total_sales \r\n",
                "FROM sales_data \r\n",
                "GROUP BY Segment\r\n",
                "ORDER BY total_sales DESC"
            ],
            "metadata": {
                "azdata_cell_guid": "171bec34-3cf4-4672-b000-8fd4732e07bf",
                "language": "sql"
            },
            "outputs": [
                {
                    "output_type": "display_data",
                    "data": {
                        "text/html": "(3 rows affected)"
                    },
                    "metadata": {}
                },
                {
                    "output_type": "display_data",
                    "data": {
                        "text/html": "Total execution time: 00:00:00.012"
                    },
                    "metadata": {}
                },
                {
                    "output_type": "execute_result",
                    "execution_count": 55,
                    "data": {
                        "application/vnd.dataresource+json": {
                            "schema": {
                                "fields": [
                                    {
                                        "name": "Segment"
                                    },
                                    {
                                        "name": "total_sales"
                                    }
                                ]
                            },
                            "data": [
                                {
                                    "Segment": "Consumer",
                                    "total_sales": "18270542114159"
                                },
                                {
                                    "Segment": "Corporate",
                                    "total_sales": "10850692509297"
                                },
                                {
                                    "Segment": "Home Office",
                                    "total_sales": "6247603791199"
                                }
                            ]
                        },
                        "text/html": "<table><tr><th>Segment</th><th>total_sales</th></tr><tr><td>Consumer</td><td>18270542114159</td></tr><tr><td>Corporate</td><td>10850692509297</td></tr><tr><td>Home Office</td><td>6247603791199</td></tr></table>"
                    },
                    "metadata": {
                        "azdata_chartOptions": {
                            "type": "pie",
                            "dataDirection": "vertical",
                            "columnsAsLabels": true,
                            "labelFirstColumn": false,
                            "legendPosition": "top"
                        }
                    }
                }
            ],
            "execution_count": 55
        },
        {
            "cell_type": "markdown",
            "source": [
                "**Sales Performance By Region**"
            ],
            "metadata": {
                "azdata_cell_guid": "cb25b81d-e0d8-43d1-999b-8b506c97e51b"
            },
            "attachments": {}
        },
        {
            "cell_type": "markdown",
            "source": [
                "By analyzing regional sales data, businesses can identify high performing regions, address underperforming ares, and allocate resources more efficiently."
            ],
            "metadata": {
                "azdata_cell_guid": "520d1c98-ee2b-4f16-8dc1-52d041e98b18"
            },
            "attachments": {}
        },
        {
            "cell_type": "code",
            "source": [
                "SELECT \r\n",
                "    Region, \r\n",
                "    SUM(Sales) AS total_sales \r\n",
                "FROM [sales_data]\r\n",
                "GROUP BY Region\r\n",
                "ORDER BY total_sales DESC"
            ],
            "metadata": {
                "azdata_cell_guid": "bab62aa4-a41d-49db-9011-aa915c41c555",
                "language": "sql"
            },
            "outputs": [
                {
                    "output_type": "display_data",
                    "data": {
                        "text/html": "(4 rows affected)"
                    },
                    "metadata": {}
                },
                {
                    "output_type": "display_data",
                    "data": {
                        "text/html": "Total execution time: 00:00:00.044"
                    },
                    "metadata": {}
                },
                {
                    "output_type": "execute_result",
                    "execution_count": 57,
                    "data": {
                        "application/vnd.dataresource+json": {
                            "schema": {
                                "fields": [
                                    {
                                        "name": "Region"
                                    },
                                    {
                                        "name": "total_sales"
                                    }
                                ]
                            },
                            "data": [
                                {
                                    "Region": "West",
                                    "total_sales": "11071012263257"
                                },
                                {
                                    "Region": "East",
                                    "total_sales": "10202693171101"
                                },
                                {
                                    "Region": "Central",
                                    "total_sales": "8245860567887"
                                },
                                {
                                    "Region": "South",
                                    "total_sales": "5849272412410"
                                }
                            ]
                        },
                        "text/html": "<table><tr><th>Region</th><th>total_sales</th></tr><tr><td>West</td><td>11071012263257</td></tr><tr><td>East</td><td>10202693171101</td></tr><tr><td>Central</td><td>8245860567887</td></tr><tr><td>South</td><td>5849272412410</td></tr></table>"
                    },
                    "metadata": {
                        "azdata_chartOptions": {
                            "type": "bar",
                            "dataDirection": "vertical",
                            "columnsAsLabels": true,
                            "labelFirstColumn": false,
                            "legendPosition": "top",
                            "yAxisLabel": "Region",
                            "xAxisLabel": "Total Sales"
                        }
                    }
                }
            ],
            "execution_count": 57
        },
        {
            "cell_type": "markdown",
            "source": [
                "**Profitability Analysis 2015 - SandDance**"
            ],
            "metadata": {
                "azdata_cell_guid": "4c0fdf40-a1cc-404a-a940-012bf20b5ac6"
            },
            "attachments": {}
        },
        {
            "cell_type": "markdown",
            "source": [
                "The purpose is to analyze and present the profitability of different sub-categories of items for the year of 2015. By summing up the profit generated by each sub-category. The query helps identify which specific types of items contributed the most overall profit in that year. This analysis is useful for understanding the revenue generating potential of different product categories."
            ],
            "metadata": {
                "azdata_cell_guid": "41375e29-7780-4547-b562-ef0fd0f5c962"
            },
            "attachments": {}
        },
        {
            "cell_type": "code",
            "source": [
                "SELECT\r\n",
                "    Sub_Category AS Item,\r\n",
                "    SUM(Profit) AS TotalProfit\r\n",
                "FROM\r\n",
                "    sales_data\r\n",
                "WHERE\r\n",
                "    YEAR(Order_Date) = 2015\r\n",
                "GROUP BY\r\n",
                "    Sub_Category\r\n",
                "ORDER BY\r\n",
                "    TotalProfit DESC;"
            ],
            "metadata": {
                "azdata_cell_guid": "5981c0b1-f30f-447d-9750-96d821d12eaf",
                "language": "sql"
            },
            "outputs": [
                {
                    "output_type": "display_data",
                    "data": {
                        "text/html": "(17 rows affected)"
                    },
                    "metadata": {}
                },
                {
                    "output_type": "display_data",
                    "data": {
                        "text/html": "Total execution time: 00:00:00.009"
                    },
                    "metadata": {}
                },
                {
                    "output_type": "execute_result",
                    "execution_count": 56,
                    "data": {
                        "application/vnd.dataresource+json": {
                            "schema": {
                                "fields": [
                                    {
                                        "name": "Item"
                                    },
                                    {
                                        "name": "TotalProfit"
                                    }
                                ]
                            },
                            "data": [
                                {
                                    "Item": "Phones",
                                    "TotalProfit": "865890"
                                },
                                {
                                    "Item": "Binders",
                                    "TotalProfit": "417163"
                                },
                                {
                                    "Item": "Bookcases",
                                    "TotalProfit": "407650"
                                },
                                {
                                    "Item": "Chairs",
                                    "TotalProfit": "334414"
                                },
                                {
                                    "Item": "Envelopes",
                                    "TotalProfit": "259311"
                                },
                                {
                                    "Item": "Fasteners",
                                    "TotalProfit": "135788"
                                },
                                {
                                    "Item": "Paper",
                                    "TotalProfit": "115428"
                                },
                                {
                                    "Item": "Accessories",
                                    "TotalProfit": "109306"
                                },
                                {
                                    "Item": "Labels",
                                    "TotalProfit": "65524"
                                },
                                {
                                    "Item": "Appliances",
                                    "TotalProfit": "10245"
                                },
                                {
                                    "Item": "Machines",
                                    "TotalProfit": "-4946"
                                },
                                {
                                    "Item": "Copiers",
                                    "TotalProfit": "-125477"
                                },
                                {
                                    "Item": "Storage",
                                    "TotalProfit": "-272670"
                                },
                                {
                                    "Item": "Tables",
                                    "TotalProfit": "-336436"
                                },
                                {
                                    "Item": "Supplies",
                                    "TotalProfit": "-371875"
                                },
                                {
                                    "Item": "Furnishings",
                                    "TotalProfit": "-670628"
                                },
                                {
                                    "Item": "Art",
                                    "TotalProfit": "-802606"
                                }
                            ]
                        },
                        "text/html": "<table><tr><th>Item</th><th>TotalProfit</th></tr><tr><td>Phones</td><td>865890</td></tr><tr><td>Binders</td><td>417163</td></tr><tr><td>Bookcases</td><td>407650</td></tr><tr><td>Chairs</td><td>334414</td></tr><tr><td>Envelopes</td><td>259311</td></tr><tr><td>Fasteners</td><td>135788</td></tr><tr><td>Paper</td><td>115428</td></tr><tr><td>Accessories</td><td>109306</td></tr><tr><td>Labels</td><td>65524</td></tr><tr><td>Appliances</td><td>10245</td></tr><tr><td>Machines</td><td>-4946</td></tr><tr><td>Copiers</td><td>-125477</td></tr><tr><td>Storage</td><td>-272670</td></tr><tr><td>Tables</td><td>-336436</td></tr><tr><td>Supplies</td><td>-371875</td></tr><tr><td>Furnishings</td><td>-670628</td></tr><tr><td>Art</td><td>-802606</td></tr></table>"
                    },
                    "metadata": {}
                }
            ],
            "execution_count": 56
        }
    ]
}